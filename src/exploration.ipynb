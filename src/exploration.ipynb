{
 "cells": [
  {
   "cell_type": "markdown",
   "metadata": {},
   "source": [
    "# **Eksplorasi Data Ecommerce: Post-order customer problems**\n",
    "\n",
    "Muhammad Ibrahim Al Muwahidan / `almuwahidan@gmail.com`\n",
    "\n",
    "---"
   ]
  },
  {
   "cell_type": "markdown",
   "metadata": {},
   "source": [
    "In this exploration, we as data analysts in Post-order Team, would like to uncover possible customer pain points regarding their post-order journey.\n",
    "\n",
    "This analysis hopefully will help answer some questions such as:\n",
    "- Whether our customers have negative experiences in terms of item delivery\n",
    "- The drivers of delivery problems if there's any: whether the delivery operations itself, or sellers are simply too far from the customers"
   ]
  },
  {
   "cell_type": "code",
   "execution_count": 682,
   "metadata": {},
   "outputs": [],
   "source": [
    "# import libraries\n",
    "\n",
    "from datetime import datetime\n",
    "from haversine import haversine\n",
    "from scipy import stats\n",
    "import gc\n",
    "import unidecode\n",
    "import pandas as pd\n",
    "import seaborn as sns"
   ]
  },
  {
   "cell_type": "code",
   "execution_count": 683,
   "metadata": {},
   "outputs": [],
   "source": [
    "# supporting functions\n",
    "\n",
    "def diff_date(date1, date2):\n",
    "    \"\"\"Calculate the time elapsed between two dates (in days)\"\"\"\n",
    "    d1 = datetime.strptime(date1, \"%Y-%m-%d\")\n",
    "    d2 = datetime.strptime(date2, \"%Y-%m-%d\")\n",
    "    return abs((d2 - d1).days)"
   ]
  },
  {
   "cell_type": "markdown",
   "metadata": {},
   "source": [
    "---"
   ]
  },
  {
   "cell_type": "markdown",
   "metadata": {},
   "source": [
    "### **0. data prep**"
   ]
  },
  {
   "cell_type": "markdown",
   "metadata": {},
   "source": [
    "#### First dataset: Order reviews + delivery duration"
   ]
  },
  {
   "cell_type": "markdown",
   "metadata": {},
   "source": [
    "First, we load the dataset we have prepared from previous SQL query `1-delivery-duration-review.csv`"
   ]
  },
  {
   "cell_type": "code",
   "execution_count": 684,
   "metadata": {},
   "outputs": [
    {
     "name": "stdout",
     "output_type": "stream",
     "text": [
      "number of rows: 52678\n"
     ]
    },
    {
     "data": {
      "text/html": [
       "<div>\n",
       "<style scoped>\n",
       "    .dataframe tbody tr th:only-of-type {\n",
       "        vertical-align: middle;\n",
       "    }\n",
       "\n",
       "    .dataframe tbody tr th {\n",
       "        vertical-align: top;\n",
       "    }\n",
       "\n",
       "    .dataframe thead th {\n",
       "        text-align: right;\n",
       "    }\n",
       "</style>\n",
       "<table border=\"1\" class=\"dataframe\">\n",
       "  <thead>\n",
       "    <tr style=\"text-align: right;\">\n",
       "      <th></th>\n",
       "      <th>review_score</th>\n",
       "      <th>purchase_date</th>\n",
       "      <th>approved_date</th>\n",
       "      <th>delivered_date</th>\n",
       "    </tr>\n",
       "  </thead>\n",
       "  <tbody>\n",
       "    <tr>\n",
       "      <th>0</th>\n",
       "      <td>4</td>\n",
       "      <td>2018-07-24</td>\n",
       "      <td>2018-07-26</td>\n",
       "      <td>2018-08-07</td>\n",
       "    </tr>\n",
       "    <tr>\n",
       "      <th>1</th>\n",
       "      <td>5</td>\n",
       "      <td>2018-08-08</td>\n",
       "      <td>2018-08-08</td>\n",
       "      <td>2018-08-17</td>\n",
       "    </tr>\n",
       "    <tr>\n",
       "      <th>2</th>\n",
       "      <td>5</td>\n",
       "      <td>2018-02-13</td>\n",
       "      <td>2018-02-13</td>\n",
       "      <td>2018-02-16</td>\n",
       "    </tr>\n",
       "    <tr>\n",
       "      <th>3</th>\n",
       "      <td>5</td>\n",
       "      <td>2018-06-07</td>\n",
       "      <td>2018-06-09</td>\n",
       "      <td>2018-06-19</td>\n",
       "    </tr>\n",
       "    <tr>\n",
       "      <th>4</th>\n",
       "      <td>5</td>\n",
       "      <td>2018-07-25</td>\n",
       "      <td>2018-07-25</td>\n",
       "      <td>2018-07-30</td>\n",
       "    </tr>\n",
       "  </tbody>\n",
       "</table>\n",
       "</div>"
      ],
      "text/plain": [
       "   review_score purchase_date approved_date delivered_date\n",
       "0             4    2018-07-24    2018-07-26     2018-08-07\n",
       "1             5    2018-08-08    2018-08-08     2018-08-17\n",
       "2             5    2018-02-13    2018-02-13     2018-02-16\n",
       "3             5    2018-06-07    2018-06-09     2018-06-19\n",
       "4             5    2018-07-25    2018-07-25     2018-07-30"
      ]
     },
     "execution_count": 684,
     "metadata": {},
     "output_type": "execute_result"
    }
   ],
   "source": [
    "raw_data = pd.read_csv('../db/1-duration-review.csv')\n",
    "\n",
    "print(f\"number of rows: {len(raw_data)}\")\n",
    "raw_data.head()"
   ]
  },
  {
   "cell_type": "markdown",
   "metadata": {},
   "source": [
    "Then, we drop rows with `NULL` or `NaN` values"
   ]
  },
  {
   "cell_type": "code",
   "execution_count": 685,
   "metadata": {},
   "outputs": [
    {
     "name": "stdout",
     "output_type": "stream",
     "text": [
      "number of rows: 52672\n"
     ]
    }
   ],
   "source": [
    "raw_data = raw_data.dropna(axis=0, how='any')\n",
    "\n",
    "print(f\"number of rows: {len(raw_data)}\")"
   ]
  },
  {
   "cell_type": "markdown",
   "metadata": {},
   "source": [
    "After that, we use Python to transform the data into a format we can work with easily:\n",
    "- Calculate delivery duration from purchase date + delivered date data"
   ]
  },
  {
   "cell_type": "code",
   "execution_count": 686,
   "metadata": {},
   "outputs": [
    {
     "name": "stdout",
     "output_type": "stream",
     "text": [
      "number of rows: 52672\n"
     ]
    },
    {
     "data": {
      "text/html": [
       "<div>\n",
       "<style scoped>\n",
       "    .dataframe tbody tr th:only-of-type {\n",
       "        vertical-align: middle;\n",
       "    }\n",
       "\n",
       "    .dataframe tbody tr th {\n",
       "        vertical-align: top;\n",
       "    }\n",
       "\n",
       "    .dataframe thead th {\n",
       "        text-align: right;\n",
       "    }\n",
       "</style>\n",
       "<table border=\"1\" class=\"dataframe\">\n",
       "  <thead>\n",
       "    <tr style=\"text-align: right;\">\n",
       "      <th></th>\n",
       "      <th>review_score</th>\n",
       "      <th>delivery_duration</th>\n",
       "    </tr>\n",
       "  </thead>\n",
       "  <tbody>\n",
       "    <tr>\n",
       "      <th>0</th>\n",
       "      <td>4</td>\n",
       "      <td>14</td>\n",
       "    </tr>\n",
       "    <tr>\n",
       "      <th>1</th>\n",
       "      <td>5</td>\n",
       "      <td>9</td>\n",
       "    </tr>\n",
       "    <tr>\n",
       "      <th>2</th>\n",
       "      <td>5</td>\n",
       "      <td>3</td>\n",
       "    </tr>\n",
       "    <tr>\n",
       "      <th>3</th>\n",
       "      <td>5</td>\n",
       "      <td>12</td>\n",
       "    </tr>\n",
       "    <tr>\n",
       "      <th>4</th>\n",
       "      <td>5</td>\n",
       "      <td>5</td>\n",
       "    </tr>\n",
       "  </tbody>\n",
       "</table>\n",
       "</div>"
      ],
      "text/plain": [
       "   review_score  delivery_duration\n",
       "0             4                 14\n",
       "1             5                  9\n",
       "2             5                  3\n",
       "3             5                 12\n",
       "4             5                  5"
      ]
     },
     "execution_count": 686,
     "metadata": {},
     "output_type": "execute_result"
    }
   ],
   "source": [
    "orders_df1 = pd.DataFrame()\n",
    "\n",
    "# Use list comprehension to add each columns separately\n",
    "orders_df1['review_score'] = raw_data['review_score']\n",
    "orders_df1['delivery_duration'] = [diff_date(purchase, delivery) for purchase, delivery in zip(raw_data['purchase_date'], raw_data['delivered_date'])]\n",
    "\n",
    "print(f\"number of rows: {len(orders_df1)}\")\n",
    "orders_df1.head()"
   ]
  },
  {
   "cell_type": "markdown",
   "metadata": {},
   "source": [
    "When the new dataset has been created, we can delete the `raw_data` dataframe, to free up memory."
   ]
  },
  {
   "cell_type": "code",
   "execution_count": 687,
   "metadata": {},
   "outputs": [
    {
     "data": {
      "text/plain": [
       "563"
      ]
     },
     "execution_count": 687,
     "metadata": {},
     "output_type": "execute_result"
    }
   ],
   "source": [
    "del raw_data\n",
    "gc.collect()"
   ]
  },
  {
   "cell_type": "markdown",
   "metadata": {},
   "source": [
    "#### Second dataset: Order delivery duration + distance"
   ]
  },
  {
   "cell_type": "markdown",
   "metadata": {},
   "source": [
    "First, we load the dataset we have prepared from previous SQL query `1-delivery-duration-review.csv`"
   ]
  },
  {
   "cell_type": "code",
   "execution_count": 688,
   "metadata": {},
   "outputs": [
    {
     "name": "stdout",
     "output_type": "stream",
     "text": [
      "number of rows: 52530\n"
     ]
    },
    {
     "data": {
      "text/html": [
       "<div>\n",
       "<style scoped>\n",
       "    .dataframe tbody tr th:only-of-type {\n",
       "        vertical-align: middle;\n",
       "    }\n",
       "\n",
       "    .dataframe tbody tr th {\n",
       "        vertical-align: top;\n",
       "    }\n",
       "\n",
       "    .dataframe thead th {\n",
       "        text-align: right;\n",
       "    }\n",
       "</style>\n",
       "<table border=\"1\" class=\"dataframe\">\n",
       "  <thead>\n",
       "    <tr style=\"text-align: right;\">\n",
       "      <th></th>\n",
       "      <th>purchase_date</th>\n",
       "      <th>delivered_date</th>\n",
       "      <th>seller_lat</th>\n",
       "      <th>seller_lng</th>\n",
       "      <th>seller_city</th>\n",
       "      <th>customer_lat</th>\n",
       "      <th>customer_lng</th>\n",
       "      <th>customer_city</th>\n",
       "    </tr>\n",
       "  </thead>\n",
       "  <tbody>\n",
       "    <tr>\n",
       "      <th>0</th>\n",
       "      <td>2018-01-14</td>\n",
       "      <td>2018-01-22</td>\n",
       "      <td>-22.262584</td>\n",
       "      <td>-46.171124</td>\n",
       "      <td>borda da mata</td>\n",
       "      <td>-19.870305</td>\n",
       "      <td>-44.593326</td>\n",
       "      <td>pará de minas</td>\n",
       "    </tr>\n",
       "    <tr>\n",
       "      <th>1</th>\n",
       "      <td>2018-08-08</td>\n",
       "      <td>2018-08-14</td>\n",
       "      <td>-20.553624</td>\n",
       "      <td>-47.387359</td>\n",
       "      <td>franca</td>\n",
       "      <td>-23.089925</td>\n",
       "      <td>-46.611654</td>\n",
       "      <td>atibaia</td>\n",
       "    </tr>\n",
       "    <tr>\n",
       "      <th>2</th>\n",
       "      <td>2018-07-04</td>\n",
       "      <td>2018-07-09</td>\n",
       "      <td>-22.122735</td>\n",
       "      <td>-51.386369</td>\n",
       "      <td>presidente prudente</td>\n",
       "      <td>-24.014395</td>\n",
       "      <td>-46.438358</td>\n",
       "      <td>praia grande</td>\n",
       "    </tr>\n",
       "    <tr>\n",
       "      <th>3</th>\n",
       "      <td>2018-03-19</td>\n",
       "      <td>2018-03-29</td>\n",
       "      <td>-23.515978</td>\n",
       "      <td>-46.547372</td>\n",
       "      <td>sao paulo</td>\n",
       "      <td>-23.954600</td>\n",
       "      <td>-46.337731</td>\n",
       "      <td>santos</td>\n",
       "    </tr>\n",
       "    <tr>\n",
       "      <th>4</th>\n",
       "      <td>2018-07-02</td>\n",
       "      <td>2018-07-04</td>\n",
       "      <td>-23.467052</td>\n",
       "      <td>-46.587921</td>\n",
       "      <td>sao paulo</td>\n",
       "      <td>-23.556620</td>\n",
       "      <td>-46.899041</td>\n",
       "      <td>jandira</td>\n",
       "    </tr>\n",
       "  </tbody>\n",
       "</table>\n",
       "</div>"
      ],
      "text/plain": [
       "  purchase_date delivered_date  seller_lat  seller_lng          seller_city  \\\n",
       "0    2018-01-14     2018-01-22  -22.262584  -46.171124        borda da mata   \n",
       "1    2018-08-08     2018-08-14  -20.553624  -47.387359               franca   \n",
       "2    2018-07-04     2018-07-09  -22.122735  -51.386369  presidente prudente   \n",
       "3    2018-03-19     2018-03-29  -23.515978  -46.547372            sao paulo   \n",
       "4    2018-07-02     2018-07-04  -23.467052  -46.587921            sao paulo   \n",
       "\n",
       "   customer_lat  customer_lng  customer_city  \n",
       "0    -19.870305    -44.593326  pará de minas  \n",
       "1    -23.089925    -46.611654        atibaia  \n",
       "2    -24.014395    -46.438358   praia grande  \n",
       "3    -23.954600    -46.337731         santos  \n",
       "4    -23.556620    -46.899041        jandira  "
      ]
     },
     "execution_count": 688,
     "metadata": {},
     "output_type": "execute_result"
    }
   ],
   "source": [
    "raw_data = pd.read_csv('../db/2-duration-distance.csv')\n",
    "\n",
    "raw_data['seller_city'] = raw_data['seller_city'].str.strip()\n",
    "raw_data['customer_city'] = raw_data['customer_city'].str.strip()\n",
    "\n",
    "print(f\"number of rows: {len(raw_data)}\")\n",
    "raw_data.head()"
   ]
  },
  {
   "cell_type": "markdown",
   "metadata": {},
   "source": [
    "Then, we drop rows with `NULL` or `NaN` values"
   ]
  },
  {
   "cell_type": "code",
   "execution_count": 689,
   "metadata": {},
   "outputs": [
    {
     "name": "stdout",
     "output_type": "stream",
     "text": [
      "number of rows: 52524\n"
     ]
    }
   ],
   "source": [
    "raw_data = raw_data.dropna(axis=0, how='any')\n",
    "\n",
    "print(f\"number of rows: {len(raw_data)}\")"
   ]
  },
  {
   "cell_type": "markdown",
   "metadata": {},
   "source": [
    "After that, we use Python to transform the data into a format we can work with easily:\n",
    "- Calculate delivery duration from purchase date + delivered date data\n",
    "- Calculate distance from seller to customer using haversine formula"
   ]
  },
  {
   "cell_type": "code",
   "execution_count": 690,
   "metadata": {},
   "outputs": [
    {
     "name": "stdout",
     "output_type": "stream",
     "text": [
      "number of rows: 52524\n"
     ]
    },
    {
     "data": {
      "text/html": [
       "<div>\n",
       "<style scoped>\n",
       "    .dataframe tbody tr th:only-of-type {\n",
       "        vertical-align: middle;\n",
       "    }\n",
       "\n",
       "    .dataframe tbody tr th {\n",
       "        vertical-align: top;\n",
       "    }\n",
       "\n",
       "    .dataframe thead th {\n",
       "        text-align: right;\n",
       "    }\n",
       "</style>\n",
       "<table border=\"1\" class=\"dataframe\">\n",
       "  <thead>\n",
       "    <tr style=\"text-align: right;\">\n",
       "      <th></th>\n",
       "      <th>purchase_month</th>\n",
       "      <th>seller_city</th>\n",
       "      <th>customer_city</th>\n",
       "      <th>delivery_duration</th>\n",
       "      <th>delivery_distance</th>\n",
       "    </tr>\n",
       "  </thead>\n",
       "  <tbody>\n",
       "    <tr>\n",
       "      <th>0</th>\n",
       "      <td>1</td>\n",
       "      <td>borda da mata</td>\n",
       "      <td>pará de minas</td>\n",
       "      <td>8</td>\n",
       "      <td>312.344</td>\n",
       "    </tr>\n",
       "    <tr>\n",
       "      <th>1</th>\n",
       "      <td>8</td>\n",
       "      <td>franca</td>\n",
       "      <td>atibaia</td>\n",
       "      <td>6</td>\n",
       "      <td>293.169</td>\n",
       "    </tr>\n",
       "    <tr>\n",
       "      <th>2</th>\n",
       "      <td>7</td>\n",
       "      <td>presidente prudente</td>\n",
       "      <td>praia grande</td>\n",
       "      <td>5</td>\n",
       "      <td>548.107</td>\n",
       "    </tr>\n",
       "    <tr>\n",
       "      <th>3</th>\n",
       "      <td>3</td>\n",
       "      <td>sao paulo</td>\n",
       "      <td>santos</td>\n",
       "      <td>10</td>\n",
       "      <td>53.237</td>\n",
       "    </tr>\n",
       "    <tr>\n",
       "      <th>4</th>\n",
       "      <td>7</td>\n",
       "      <td>sao paulo</td>\n",
       "      <td>jandira</td>\n",
       "      <td>2</td>\n",
       "      <td>33.250</td>\n",
       "    </tr>\n",
       "  </tbody>\n",
       "</table>\n",
       "</div>"
      ],
      "text/plain": [
       "   purchase_month          seller_city  customer_city  delivery_duration  \\\n",
       "0               1        borda da mata  pará de minas                  8   \n",
       "1               8               franca        atibaia                  6   \n",
       "2               7  presidente prudente   praia grande                  5   \n",
       "3               3            sao paulo         santos                 10   \n",
       "4               7            sao paulo        jandira                  2   \n",
       "\n",
       "   delivery_distance  \n",
       "0            312.344  \n",
       "1            293.169  \n",
       "2            548.107  \n",
       "3             53.237  \n",
       "4             33.250  "
      ]
     },
     "execution_count": 690,
     "metadata": {},
     "output_type": "execute_result"
    }
   ],
   "source": [
    "orders_df2 = pd.DataFrame()\n",
    "\n",
    "# Fill the month data\n",
    "orders_df2['purchase_date'] = pd.to_datetime(raw_data['purchase_date'], format='%Y-%m-%d')\n",
    "orders_df2['purchase_month'] = pd.DatetimeIndex(orders_df2['purchase_date']).month\n",
    "orders_df2 = orders_df2.drop(columns=['purchase_date'])\n",
    "\n",
    "# Copy the seller and customer cities\n",
    "orders_df2['seller_city'] = raw_data['seller_city']\n",
    "orders_df2['customer_city'] = raw_data['customer_city']\n",
    "\n",
    "# Calculate delivery duration data\n",
    "orders_df2['delivery_duration'] = [diff_date(purchase, delivery) for purchase, delivery in zip(raw_data['purchase_date'], raw_data['delivered_date'])]\n",
    "\n",
    "# Calculate distance data\n",
    "seller_coords = zip(raw_data['seller_lat'], raw_data['seller_lng'])\n",
    "buyer_coords = zip(raw_data['customer_lat'], raw_data['customer_lng'])\n",
    "orders_df2['delivery_distance'] = [round(haversine(seller_coord, buyer_coord, unit='km'), 3) for seller_coord, buyer_coord in zip(seller_coords, buyer_coords)]\n",
    "\n",
    "# Print the table\n",
    "print(f\"number of rows: {len(orders_df2)}\")\n",
    "orders_df2.head()"
   ]
  },
  {
   "cell_type": "markdown",
   "metadata": {},
   "source": [
    "Then, we need to make sure the city names are uniform. We do this by:\n",
    "- looking at the unique values first (already done during SQL stage)\n",
    "- replace whitespaces (already done during SQL stage)\n",
    "- Fix typos (not included in this step)\n",
    "- Standardize accented characters"
   ]
  },
  {
   "cell_type": "code",
   "execution_count": 691,
   "metadata": {},
   "outputs": [
    {
     "data": {
      "text/plain": [
       "array(['sao paulo', 'são paulo'], dtype=object)"
      ]
     },
     "execution_count": 691,
     "metadata": {},
     "output_type": "execute_result"
    }
   ],
   "source": [
    "orders_df2.query('seller_city.str.contains(\"o paulo\")')['seller_city'].unique()"
   ]
  },
  {
   "cell_type": "markdown",
   "metadata": {},
   "source": [
    "From the result above, we can see that `\"sao paulo\"` and `\"são paulo\"` are both considered unique, due to the accented character `ã`.\n",
    "\n",
    "We'll standardize this using `unidecode()` function."
   ]
  },
  {
   "cell_type": "code",
   "execution_count": 692,
   "metadata": {},
   "outputs": [
    {
     "data": {
      "text/plain": [
       "array(['sao paulo'], dtype=object)"
      ]
     },
     "execution_count": 692,
     "metadata": {},
     "output_type": "execute_result"
    }
   ],
   "source": [
    "# Apply the function unidecode() to each of the cities\n",
    "orders_df2['seller_city'] = orders_df2['seller_city'].apply(unidecode.unidecode)\n",
    "orders_df2['customer_city'] = orders_df2['customer_city'].apply(unidecode.unidecode)\n",
    "\n",
    "\n",
    "# Print the unique value again\n",
    "orders_df2.query('seller_city.str.contains(\"o paulo\")')['seller_city'].unique()"
   ]
  },
  {
   "cell_type": "markdown",
   "metadata": {},
   "source": [
    "Then, we can simplify the column to whether the order delivery is intercity or not."
   ]
  },
  {
   "cell_type": "code",
   "execution_count": 693,
   "metadata": {},
   "outputs": [
    {
     "data": {
      "text/html": [
       "<div>\n",
       "<style scoped>\n",
       "    .dataframe tbody tr th:only-of-type {\n",
       "        vertical-align: middle;\n",
       "    }\n",
       "\n",
       "    .dataframe tbody tr th {\n",
       "        vertical-align: top;\n",
       "    }\n",
       "\n",
       "    .dataframe thead th {\n",
       "        text-align: right;\n",
       "    }\n",
       "</style>\n",
       "<table border=\"1\" class=\"dataframe\">\n",
       "  <thead>\n",
       "    <tr style=\"text-align: right;\">\n",
       "      <th></th>\n",
       "      <th>purchase_month</th>\n",
       "      <th>delivery_duration</th>\n",
       "      <th>delivery_distance</th>\n",
       "      <th>is_intercity</th>\n",
       "    </tr>\n",
       "  </thead>\n",
       "  <tbody>\n",
       "    <tr>\n",
       "      <th>0</th>\n",
       "      <td>1</td>\n",
       "      <td>8</td>\n",
       "      <td>312.344</td>\n",
       "      <td>TRUE</td>\n",
       "    </tr>\n",
       "    <tr>\n",
       "      <th>1</th>\n",
       "      <td>8</td>\n",
       "      <td>6</td>\n",
       "      <td>293.169</td>\n",
       "      <td>TRUE</td>\n",
       "    </tr>\n",
       "    <tr>\n",
       "      <th>2</th>\n",
       "      <td>7</td>\n",
       "      <td>5</td>\n",
       "      <td>548.107</td>\n",
       "      <td>TRUE</td>\n",
       "    </tr>\n",
       "    <tr>\n",
       "      <th>3</th>\n",
       "      <td>3</td>\n",
       "      <td>10</td>\n",
       "      <td>53.237</td>\n",
       "      <td>TRUE</td>\n",
       "    </tr>\n",
       "    <tr>\n",
       "      <th>4</th>\n",
       "      <td>7</td>\n",
       "      <td>2</td>\n",
       "      <td>33.250</td>\n",
       "      <td>TRUE</td>\n",
       "    </tr>\n",
       "  </tbody>\n",
       "</table>\n",
       "</div>"
      ],
      "text/plain": [
       "   purchase_month  delivery_duration  delivery_distance is_intercity\n",
       "0               1                  8            312.344         TRUE\n",
       "1               8                  6            293.169         TRUE\n",
       "2               7                  5            548.107         TRUE\n",
       "3               3                 10             53.237         TRUE\n",
       "4               7                  2             33.250         TRUE"
      ]
     },
     "execution_count": 693,
     "metadata": {},
     "output_type": "execute_result"
    }
   ],
   "source": [
    "orders_df2['is_intercity'] = [\"FALSE\" if city1 == city2 else \"TRUE\" for city1, city2 in zip(orders_df2['seller_city'], orders_df2['customer_city'])]\n",
    "\n",
    "orders_df2 = orders_df2.drop(columns=['seller_city', 'customer_city'])\n",
    "\n",
    "orders_df2.head()"
   ]
  },
  {
   "cell_type": "markdown",
   "metadata": {},
   "source": [
    "We're done!\n",
    "\n",
    "Now that the new dataset has been created, we can delete the `raw_data` dataframe, to free up memory."
   ]
  },
  {
   "cell_type": "code",
   "execution_count": 694,
   "metadata": {},
   "outputs": [
    {
     "data": {
      "text/plain": [
       "43"
      ]
     },
     "execution_count": 694,
     "metadata": {},
     "output_type": "execute_result"
    }
   ],
   "source": [
    "del raw_data\n",
    "del seller_coords\n",
    "del buyer_coords\n",
    "gc.collect()"
   ]
  },
  {
   "cell_type": "markdown",
   "metadata": {},
   "source": [
    "---"
   ]
  },
  {
   "cell_type": "markdown",
   "metadata": {},
   "source": [
    "### **1. Quantitatively validating whether delivery is a customer pain-point**"
   ]
  },
  {
   "cell_type": "markdown",
   "metadata": {},
   "source": [
    "Step 1:\n",
    "\n",
    "Look at distribution and remove outliers, if any."
   ]
  },
  {
   "cell_type": "code",
   "execution_count": 695,
   "metadata": {},
   "outputs": [
    {
     "data": {
      "text/plain": [
       "<seaborn.axisgrid.FacetGrid at 0x7fdef77f4400>"
      ]
     },
     "execution_count": 695,
     "metadata": {},
     "output_type": "execute_result"
    },
    {
     "data": {
      "image/png": "[encoded data removed]",
      "text/plain": [
       "<Figure size 500x500 with 1 Axes>"
      ]
     },
     "metadata": {},
     "output_type": "display_data"
    }
   ],
   "source": [
    "sns.displot(data=orders_df1, x=\"delivery_duration\")"
   ]
  },
  {
   "cell_type": "markdown",
   "metadata": {},
   "source": [
    "From the distribution above, we can see that there are a long tail towards a higher delivery duration.\n",
    "\n",
    "We will strategize around this by:\n",
    "- Creating another dataset with outliers removed. Note: 'outlier' in this case means |z_score| > 3.\n",
    "- Do correlation analysis for both datasets, see how the score change"
   ]
  },
  {
   "cell_type": "code",
   "execution_count": 696,
   "metadata": {},
   "outputs": [
    {
     "name": "stdout",
     "output_type": "stream",
     "text": [
      "921 outlier rows removed, which consist of 1.75% of the whole dataset.\n"
     ]
    },
    {
     "data": {
      "text/plain": [
       "67"
      ]
     },
     "execution_count": 696,
     "metadata": {},
     "output_type": "execute_result"
    }
   ],
   "source": [
    "# Calculate Z-score for delivery duration\n",
    "\n",
    "delivery_duration_z_scores = stats.zscore(orders_df1['delivery_duration'])\n",
    "\n",
    "orders_df1_nooutliers = pd.DataFrame()\n",
    "\n",
    "# If Z score < 3, then it's not outlier\n",
    "orders_df1_nooutliers['delivery_duration'] = [duration for duration, z_score in zip(orders_df1['delivery_duration'], delivery_duration_z_scores) if z_score < 3]\n",
    "orders_df1_nooutliers['review_score'] = [score for score, z_score in zip(orders_df1['review_score'], delivery_duration_z_scores) if z_score < 3]\n",
    "\n",
    "pct_data_removed = (len(orders_df1) - len(orders_df1_nooutliers)) / len(orders_df1)\n",
    "\n",
    "print(f\"{len(orders_df1) - len(orders_df1_nooutliers)} outlier rows removed, which consist of {pct_data_removed*100:.2f}% of the whole dataset.\")\n",
    "\n",
    "\n",
    "# clean up big array\n",
    "del delivery_duration_z_scores\n",
    "\n",
    "gc.collect()"
   ]
  },
  {
   "cell_type": "code",
   "execution_count": 697,
   "metadata": {},
   "outputs": [
    {
     "data": {
      "text/plain": [
       "<seaborn.axisgrid.FacetGrid at 0x7fdef7cea8e0>"
      ]
     },
     "execution_count": 697,
     "metadata": {},
     "output_type": "execute_result"
    },
    {
     "data": {
      "image/png": "[encoded data removed]",
      "text/plain": [
       "<Figure size 500x500 with 1 Axes>"
      ]
     },
     "metadata": {},
     "output_type": "display_data"
    }
   ],
   "source": [
    "sns.displot(data=orders_df1_nooutliers, x='delivery_duration')"
   ]
  },
  {
   "cell_type": "markdown",
   "metadata": {},
   "source": [
    "Step 2:\n",
    "\n",
    "Now that we have two datasets (one with outlier removed), we can proceed to calculate correlation between delivery duration and review score; for both datasets."
   ]
  },
  {
   "cell_type": "code",
   "execution_count": 698,
   "metadata": {},
   "outputs": [
    {
     "name": "stdout",
     "output_type": "stream",
     "text": [
      "Dataset with outliers intact\n"
     ]
    },
    {
     "data": {
      "text/html": [
       "<div>\n",
       "<style scoped>\n",
       "    .dataframe tbody tr th:only-of-type {\n",
       "        vertical-align: middle;\n",
       "    }\n",
       "\n",
       "    .dataframe tbody tr th {\n",
       "        vertical-align: top;\n",
       "    }\n",
       "\n",
       "    .dataframe thead th {\n",
       "        text-align: right;\n",
       "    }\n",
       "</style>\n",
       "<table border=\"1\" class=\"dataframe\">\n",
       "  <thead>\n",
       "    <tr style=\"text-align: right;\">\n",
       "      <th></th>\n",
       "      <th>review_score</th>\n",
       "      <th>delivery_duration</th>\n",
       "    </tr>\n",
       "  </thead>\n",
       "  <tbody>\n",
       "    <tr>\n",
       "      <th>review_score</th>\n",
       "      <td>1.000000</td>\n",
       "      <td>-0.366878</td>\n",
       "    </tr>\n",
       "    <tr>\n",
       "      <th>delivery_duration</th>\n",
       "      <td>-0.366878</td>\n",
       "      <td>1.000000</td>\n",
       "    </tr>\n",
       "  </tbody>\n",
       "</table>\n",
       "</div>"
      ],
      "text/plain": [
       "                   review_score  delivery_duration\n",
       "review_score           1.000000          -0.366878\n",
       "delivery_duration     -0.366878           1.000000"
      ]
     },
     "execution_count": 698,
     "metadata": {},
     "output_type": "execute_result"
    }
   ],
   "source": [
    "print(\"Dataset with outliers intact\")\n",
    "orders_df1.corr(method='pearson')"
   ]
  },
  {
   "cell_type": "code",
   "execution_count": 699,
   "metadata": {},
   "outputs": [
    {
     "name": "stdout",
     "output_type": "stream",
     "text": [
      "Datasets with outliers removed\n"
     ]
    },
    {
     "data": {
      "text/html": [
       "<div>\n",
       "<style scoped>\n",
       "    .dataframe tbody tr th:only-of-type {\n",
       "        vertical-align: middle;\n",
       "    }\n",
       "\n",
       "    .dataframe tbody tr th {\n",
       "        vertical-align: top;\n",
       "    }\n",
       "\n",
       "    .dataframe thead th {\n",
       "        text-align: right;\n",
       "    }\n",
       "</style>\n",
       "<table border=\"1\" class=\"dataframe\">\n",
       "  <thead>\n",
       "    <tr style=\"text-align: right;\">\n",
       "      <th></th>\n",
       "      <th>delivery_duration</th>\n",
       "      <th>review_score</th>\n",
       "    </tr>\n",
       "  </thead>\n",
       "  <tbody>\n",
       "    <tr>\n",
       "      <th>delivery_duration</th>\n",
       "      <td>1.000000</td>\n",
       "      <td>-0.305306</td>\n",
       "    </tr>\n",
       "    <tr>\n",
       "      <th>review_score</th>\n",
       "      <td>-0.305306</td>\n",
       "      <td>1.000000</td>\n",
       "    </tr>\n",
       "  </tbody>\n",
       "</table>\n",
       "</div>"
      ],
      "text/plain": [
       "                   delivery_duration  review_score\n",
       "delivery_duration           1.000000     -0.305306\n",
       "review_score               -0.305306      1.000000"
      ]
     },
     "execution_count": 699,
     "metadata": {},
     "output_type": "execute_result"
    }
   ],
   "source": [
    "print(\"Datasets with outliers removed\")\n",
    "orders_df1_nooutliers.corr(method='pearson')"
   ]
  },
  {
   "cell_type": "markdown",
   "metadata": {},
   "source": [
    "From here, we can conclude that:\n",
    "- There are **at least lower-medium negative correlation** between review score and delivery duration.\n",
    "- That means, the higher the delivery duration, the lower the review score tend to be.\n",
    "- Therefore, delivery duration is one driver of customer satisfaction, and this problem is worth to explore for us Post-order Team.\n",
    "- Additionally, the outlier data doesn't significantly affect the result of the analysis, so in the future we will include delivery_duration outliers."
   ]
  },
  {
   "cell_type": "markdown",
   "metadata": {},
   "source": [
    "Now that we're done with the datasets, we delete the dataframe variables to free up memory."
   ]
  },
  {
   "cell_type": "code",
   "execution_count": 700,
   "metadata": {},
   "outputs": [
    {
     "data": {
      "text/plain": [
       "74"
      ]
     },
     "execution_count": 700,
     "metadata": {},
     "output_type": "execute_result"
    }
   ],
   "source": [
    "del orders_df1\n",
    "del orders_df1_nooutliers\n",
    "gc.collect()"
   ]
  },
  {
   "cell_type": "markdown",
   "metadata": {},
   "source": [
    "---"
   ]
  },
  {
   "cell_type": "markdown",
   "metadata": {},
   "source": [
    "### **2. Analyse impact of delivery distance to the delivery duration**"
   ]
  },
  {
   "cell_type": "markdown",
   "metadata": {},
   "source": [
    "Step 1: identify distance outliers.\n",
    "\n",
    "As with previous section, we will create two datasets: one with `distance` outliers, and one without.\n",
    "\n",
    "We don't need to remove `duration` outliers because it doesn't significantly alter the result based on the previous section."
   ]
  },
  {
   "cell_type": "code",
   "execution_count": 701,
   "metadata": {},
   "outputs": [
    {
     "data": {
      "text/plain": [
       "<seaborn.axisgrid.FacetGrid at 0x7fdef7490400>"
      ]
     },
     "execution_count": 701,
     "metadata": {},
     "output_type": "execute_result"
    },
    {
     "data": {
      "image/png": "[encoded data removed]",
      "text/plain": [
       "<Figure size 500x500 with 1 Axes>"
      ]
     },
     "metadata": {},
     "output_type": "display_data"
    }
   ],
   "source": [
    "sns.displot(data=orders_df2, x='delivery_distance')"
   ]
  },
  {
   "cell_type": "markdown",
   "metadata": {},
   "source": [
    "It's worth to mention that, regarding distribution of `delivery_distance` above, there are a lot of zero-valued distance, which is acceptable due to how the dataset averages multiple coordinates in a given area.\n",
    "\n",
    "In some cases where delivery is within the same area, both `average_coordinate` will be the same, thus creating the illusion of zero distance."
   ]
  },
  {
   "cell_type": "markdown",
   "metadata": {},
   "source": [
    "Now we will create a new dataset for non-outliers in terms of `distance`."
   ]
  },
  {
   "cell_type": "code",
   "execution_count": 702,
   "metadata": {},
   "outputs": [
    {
     "name": "stdout",
     "output_type": "stream",
     "text": [
      "1147 outlier rows removed, which consist of 2.18% of the whole dataset.\n"
     ]
    },
    {
     "data": {
      "text/plain": [
       "82"
      ]
     },
     "execution_count": 702,
     "metadata": {},
     "output_type": "execute_result"
    }
   ],
   "source": [
    "# Calculate Z-score for delivery duration\n",
    "\n",
    "delivery_distance_z_scores = stats.zscore(orders_df2['delivery_distance'])\n",
    "\n",
    "orders_df2_nooutliers = pd.DataFrame()\n",
    "\n",
    "# if Z-score is < 3, it's not an outlier\n",
    "orders_df2_nooutliers['delivery_distance'] = [distance for distance, z_score in zip(orders_df2['delivery_distance'], delivery_distance_z_scores) if z_score < 3]\n",
    "orders_df2_nooutliers['delivery_duration'] = [duration for duration, z_score in zip(orders_df2['delivery_duration'], delivery_distance_z_scores) if z_score < 3]\n",
    "orders_df2_nooutliers['is_intercity'] = [is_intercity for is_intercity, z_score in zip(orders_df2['is_intercity'], delivery_distance_z_scores) if z_score < 3]\n",
    "\n",
    "pct_data_removed = (len(orders_df2) - len(orders_df2_nooutliers)) / len(orders_df2)\n",
    "\n",
    "print(f\"{len(orders_df2) - len(orders_df2_nooutliers)} outlier rows removed, which consist of {pct_data_removed*100:.2f}% of the whole dataset.\")\n",
    "\n",
    "\n",
    "# clean up big array\n",
    "del delivery_distance_z_scores\n",
    "gc.collect()"
   ]
  },
  {
   "cell_type": "code",
   "execution_count": 704,
   "metadata": {},
   "outputs": [
    {
     "data": {
      "text/plain": [
       "<seaborn.axisgrid.FacetGrid at 0x7fdef6f3a520>"
      ]
     },
     "execution_count": 704,
     "metadata": {},
     "output_type": "execute_result"
    },
    {
     "data": {
      "image/png": "[encoded data removed]",
      "text/plain": [
       "<Figure size 500x500 with 1 Axes>"
      ]
     },
     "metadata": {},
     "output_type": "display_data"
    }
   ],
   "source": [
    "sns.displot(data=orders_df2_nooutliers, x='delivery_distance')"
   ]
  },
  {
   "cell_type": "markdown",
   "metadata": {},
   "source": [
    "Step 2:\n",
    "\n",
    "Now that we have two datasets (one with outlier removed), we can proceed to calculate correlation between delivery distance and duration; for both datasets."
   ]
  },
  {
   "cell_type": "code",
   "execution_count": 705,
   "metadata": {},
   "outputs": [
    {
     "name": "stdout",
     "output_type": "stream",
     "text": [
      "Dataset with outliers intact\n"
     ]
    },
    {
     "data": {
      "text/html": [
       "<div>\n",
       "<style scoped>\n",
       "    .dataframe tbody tr th:only-of-type {\n",
       "        vertical-align: middle;\n",
       "    }\n",
       "\n",
       "    .dataframe tbody tr th {\n",
       "        vertical-align: top;\n",
       "    }\n",
       "\n",
       "    .dataframe thead th {\n",
       "        text-align: right;\n",
       "    }\n",
       "</style>\n",
       "<table border=\"1\" class=\"dataframe\">\n",
       "  <thead>\n",
       "    <tr style=\"text-align: right;\">\n",
       "      <th></th>\n",
       "      <th>purchase_month</th>\n",
       "      <th>delivery_duration</th>\n",
       "      <th>delivery_distance</th>\n",
       "    </tr>\n",
       "  </thead>\n",
       "  <tbody>\n",
       "    <tr>\n",
       "      <th>purchase_month</th>\n",
       "      <td>1.000000</td>\n",
       "      <td>-0.302293</td>\n",
       "      <td>-0.029784</td>\n",
       "    </tr>\n",
       "    <tr>\n",
       "      <th>delivery_duration</th>\n",
       "      <td>-0.302293</td>\n",
       "      <td>1.000000</td>\n",
       "      <td>0.407373</td>\n",
       "    </tr>\n",
       "    <tr>\n",
       "      <th>delivery_distance</th>\n",
       "      <td>-0.029784</td>\n",
       "      <td>0.407373</td>\n",
       "      <td>1.000000</td>\n",
       "    </tr>\n",
       "  </tbody>\n",
       "</table>\n",
       "</div>"
      ],
      "text/plain": [
       "                   purchase_month  delivery_duration  delivery_distance\n",
       "purchase_month           1.000000          -0.302293          -0.029784\n",
       "delivery_duration       -0.302293           1.000000           0.407373\n",
       "delivery_distance       -0.029784           0.407373           1.000000"
      ]
     },
     "execution_count": 705,
     "metadata": {},
     "output_type": "execute_result"
    }
   ],
   "source": [
    "print(\"Dataset with outliers intact\")\n",
    "orders_df2.corr(method='pearson', numeric_only=True)"
   ]
  },
  {
   "cell_type": "code",
   "execution_count": 706,
   "metadata": {},
   "outputs": [
    {
     "name": "stdout",
     "output_type": "stream",
     "text": [
      "Dataset with outliers removed\n"
     ]
    },
    {
     "data": {
      "text/html": [
       "<div>\n",
       "<style scoped>\n",
       "    .dataframe tbody tr th:only-of-type {\n",
       "        vertical-align: middle;\n",
       "    }\n",
       "\n",
       "    .dataframe tbody tr th {\n",
       "        vertical-align: top;\n",
       "    }\n",
       "\n",
       "    .dataframe thead th {\n",
       "        text-align: right;\n",
       "    }\n",
       "</style>\n",
       "<table border=\"1\" class=\"dataframe\">\n",
       "  <thead>\n",
       "    <tr style=\"text-align: right;\">\n",
       "      <th></th>\n",
       "      <th>delivery_distance</th>\n",
       "      <th>delivery_duration</th>\n",
       "    </tr>\n",
       "  </thead>\n",
       "  <tbody>\n",
       "    <tr>\n",
       "      <th>delivery_distance</th>\n",
       "      <td>1.000000</td>\n",
       "      <td>0.391625</td>\n",
       "    </tr>\n",
       "    <tr>\n",
       "      <th>delivery_duration</th>\n",
       "      <td>0.391625</td>\n",
       "      <td>1.000000</td>\n",
       "    </tr>\n",
       "  </tbody>\n",
       "</table>\n",
       "</div>"
      ],
      "text/plain": [
       "                   delivery_distance  delivery_duration\n",
       "delivery_distance           1.000000           0.391625\n",
       "delivery_duration           0.391625           1.000000"
      ]
     },
     "execution_count": 706,
     "metadata": {},
     "output_type": "execute_result"
    }
   ],
   "source": [
    "print(\"Dataset with outliers removed\")\n",
    "orders_df2_nooutliers.corr(method='pearson', numeric_only=True)"
   ]
  },
  {
   "cell_type": "markdown",
   "metadata": {},
   "source": [
    "From here, we can conclude that:\n",
    "- There are **medium positive correlation** between review score and delivery duration.\n",
    "- That means, the further the customer is, the longer the delivery tend to be.\n",
    "- Therefore, there is an opportunity for us to either\n",
    "    - make delivery faster regardless of the distance, or\n",
    "    - make sellers more accessible to the customers\n",
    "- Additionally, the outlier data doesn't significantly affect the result of the analysis, so in the future we will include delivery_duration outliers."
   ]
  },
  {
   "cell_type": "markdown",
   "metadata": {},
   "source": [
    "---"
   ]
  },
  {
   "cell_type": "markdown",
   "metadata": {},
   "source": [
    "### **3. Analyse whether we do intercity deliveries a lot -- do we need to expand our seller base?**"
   ]
  },
  {
   "cell_type": "markdown",
   "metadata": {},
   "source": [
    "Step 1: Understand the trend\n",
    "\n",
    "For this, we need to plot the trend of intercity deliveries vs intra-city."
   ]
  },
  {
   "cell_type": "code",
   "execution_count": 707,
   "metadata": {},
   "outputs": [
    {
     "data": {
      "text/plain": [
       "<AxesSubplot: xlabel='delivery_distance', ylabel='is_intercity'>"
      ]
     },
     "execution_count": 707,
     "metadata": {},
     "output_type": "execute_result"
    },
    {
     "data": {
      "image/png": "[encoded data removed]",
      "text/plain": [
       "<Figure size 640x480 with 1 Axes>"
      ]
     },
     "metadata": {},
     "output_type": "display_data"
    }
   ],
   "source": [
    "sns.boxplot(data=orders_df2, x='delivery_distance', y='is_intercity')"
   ]
  },
  {
   "cell_type": "markdown",
   "metadata": {},
   "source": [
    "From here, we have established an understanding that intercity deliveries is further than intra-city (which also typically takes longer, based on the previous section).\n",
    "\n",
    "Note: due to the geolocation data is around city-level, the distance is visualized closer to zero. This shouldn't be the case -- we can get a more accurate picture if we can increase the granularity of our geolocation data. However, we can confidently assume that intercity is further (and takes longer time) than intra-city deliveries."
   ]
  },
  {
   "cell_type": "markdown",
   "metadata": {},
   "source": [
    "Next, we will visualize how many orders are intercity vs intra-city. This will approximate the reach of our subsequent business/product strategy of improving deliveries."
   ]
  },
  {
   "cell_type": "code",
   "execution_count": 708,
   "metadata": {},
   "outputs": [
    {
     "data": {
      "text/plain": [
       "<AxesSubplot: xlabel='purchase_month', ylabel='count'>"
      ]
     },
     "execution_count": 708,
     "metadata": {},
     "output_type": "execute_result"
    },
    {
     "data": {
      "image/png": "[encoded data removed]",
      "text/plain": [
       "<Figure size 640x480 with 1 Axes>"
      ]
     },
     "metadata": {},
     "output_type": "display_data"
    }
   ],
   "source": [
    "sns.countplot(data=orders_df2, x='purchase_month', hue='is_intercity')"
   ]
  },
  {
   "cell_type": "markdown",
   "metadata": {},
   "source": [
    "From the data above, we can see that intercity orders are much more frequent than same-city orders, with similar fluctuating trends overall."
   ]
  },
  {
   "cell_type": "markdown",
   "metadata": {},
   "source": [
    "---"
   ]
  },
  {
   "cell_type": "markdown",
   "metadata": {},
   "source": [
    "### **Overall conclusion**"
   ]
  },
  {
   "cell_type": "markdown",
   "metadata": {},
   "source": [
    "Overall, We can conclude that **solving delivery experience is impactful** because:\n",
    "- Customer satisfaction is partly driven by how long order delivery take\n",
    "- Delivery distance is correlating positively to delivery duration\n",
    "- Most of our orders are intercity, which tend to have a longer distance"
   ]
  },
  {
   "cell_type": "markdown",
   "metadata": {},
   "source": [
    "Possible next steps for strategy can include:\n",
    "- Acquire sellers in a more diverse set of cities, so that customers can find the closest ones\n",
    "- Add some product functionalities so that the customers will know whether a delivery will take longer or not\n",
    "- Add fulfillment centers in other cities so that deliveries can be faster (avoiding long duration due to intercity delivery process)"
   ]
  },
  {
   "cell_type": "markdown",
   "metadata": {},
   "source": [
    "---"
   ]
  },
  {
   "cell_type": "code",
   "execution_count": 709,
   "metadata": {},
   "outputs": [
    {
     "ename": "NameError",
     "evalue": "name 'orders_df1' is not defined",
     "output_type": "error",
     "traceback": [
      "\u001b[0;31m---------------------------------------------------------------------------\u001b[0m",
      "\u001b[0;31mNameError\u001b[0m                                 Traceback (most recent call last)",
      "Cell \u001b[0;32mIn [709], line 1\u001b[0m\n\u001b[0;32m----> 1\u001b[0m \u001b[39mdel\u001b[39;00m orders_df1\n\u001b[1;32m      2\u001b[0m \u001b[39mdel\u001b[39;00m orders_df2\n\u001b[1;32m      3\u001b[0m gc\u001b[39m.\u001b[39mcollect()\n",
      "\u001b[0;31mNameError\u001b[0m: name 'orders_df1' is not defined"
     ]
    }
   ],
   "source": [
    "del orders_df1\n",
    "del orders_df2\n",
    "gc.collect()"
   ]
  }
 ],
 "metadata": {
  "kernelspec": {
   "display_name": "Python 3.8.10 ('pacmann-ecommerce-analysis': venv)",
   "language": "python",
   "name": "python3"
  },
  "language_info": {
   "codemirror_mode": {
    "name": "ipython",
    "version": 3
   },
   "file_extension": ".py",
   "mimetype": "text/x-python",
   "name": "python",
   "nbconvert_exporter": "python",
   "pygments_lexer": "ipython3",
   "version": "3.8.10"
  },
  "orig_nbformat": 4,
  "vscode": {
   "interpreter": {
    "hash": "31dc5abe9fb405d98970951d17ba190e2819462389ff97f7c69825610b353f98"
   }
  }
 },
 "nbformat": 4,
 "nbformat_minor": 2
}
